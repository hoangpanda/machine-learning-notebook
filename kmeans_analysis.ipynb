{
 "cells": [
  {
   "cell_type": "code",
   "execution_count": 1,
   "id": "7ca306af",
   "metadata": {},
   "outputs": [],
   "source": [
    "import numpy as np\n",
    "import matplotlib.pyplot as plt\n",
    "from scipy.spatial.distance import cdist"
   ]
  },
  {
   "cell_type": "code",
   "execution_count": 49,
   "id": "c0165331",
   "metadata": {
    "scrolled": true
   },
   "outputs": [
    {
     "name": "stdout",
     "output_type": "stream",
     "text": [
      "time: 1\n",
      "[[-0.39126444  2.4801604 ]\n",
      " [ 3.00830695  4.95630813]]\n",
      "[[0.6864918  2.77101174]\n",
      " [0.34674973 2.84245628]]\n",
      "time: 2\n",
      "[[4.09569661 6.83497913]\n",
      " [0.62480069 1.99486288]]\n",
      "[[-0.39126444  2.4801604 ]\n",
      " [ 3.00830695  4.95630813]]\n",
      "time: 3\n",
      "[[0.70218049 2.09033724]\n",
      " [4.22657056 7.02991175]]\n",
      "[[4.09569661 6.83497913]\n",
      " [0.62480069 1.99486288]]\n",
      "time: 4\n",
      "[[4.22657056 7.02991175]\n",
      " [0.70218049 2.09033724]]\n",
      "[[0.70218049 2.09033724]\n",
      " [4.22657056 7.02991175]]\n",
      "[[0.70218049 2.09033724]\n",
      " [4.22657056 7.02991175]]\n"
     ]
    }
   ],
   "source": [
    "def display_data(X, labels):\n",
    "    X0 = X[labels==0, :]\n",
    "    X1 = X[labels==1, :]\n",
    "    plt.plot(X0[:,0], X0[:,1], 'b^')\n",
    "    plt.plot(X1[:,0], X1[:,1], 'ro')\n",
    "    plt.show()\n",
    "    \n",
    "def kmeans_init_centers(X, k):\n",
    "    # replace = False : counter duplicate number\n",
    "    return X[np.random.choice(X.shape[0], k, replace=False)]\n",
    "\n",
    "def kmeans_assign_labels(X, centers):\n",
    "    d = cdist(X, centers)\n",
    "    #return d\n",
    "    # each point in centers?\n",
    "    return np.argmax(d, axis=1)\n",
    "\n",
    "def kmeans_update_centers(X, labels, k):\n",
    "    # k = unique(labels)\n",
    "    new_centers = np.zeros((k, X.shape[1]))\n",
    "    for j in range(k):\n",
    "        xj = X[labels==j, :]\n",
    "        new_centers[j] = np.mean(xj, axis=0)\n",
    "    return new_centers\n",
    "\n",
    "def has_converged(new_center, old_center):\n",
    "    #return np.array_equal(new_center, old_center)\n",
    "    return set([tuple(a) for a in new_center]) == set([tuple(a) for a in old_center])\n",
    "\n",
    "def has_converged_labels(new_labels, original_labels):\n",
    "    invert_new_labels = [1 if x == 0 else 1 for x in new_labels]\n",
    "    return np.array_equal(new_labels, original_labels) or np.array_equal(invert_new_labels, original_labels)\n",
    "\n",
    "def kmeans(X, k, original_labels):\n",
    "    centers = [kmeans_init_centers(X, k)]\n",
    "    #print(type(centers[-1]))\n",
    "    #print(centers)\n",
    "    labels = []\n",
    "    it = 0\n",
    "    while True:\n",
    "        it += 1\n",
    "        labels.append(kmeans_assign_labels(X, centers[-1]))\n",
    "        new_center = kmeans_update_centers(X, labels[-1], k)\n",
    "        #print(type(new_center))\n",
    "        print('time:', it)\n",
    "        print(new_center)\n",
    "        print(centers[-1])\n",
    "        if has_converged(new_center, centers[-1]):\n",
    "            break\n",
    "        #if has_converged_labels(labels[-1], original_labels):\n",
    "        #    break\n",
    "        centers.append(new_center)\n",
    "    return centers, labels, it\n",
    "    \n",
    "# generate data\n",
    "means = [[1,2], [4,7]]\n",
    "cov = [[1,0], [0,1]]\n",
    "N = 50\n",
    "np.random.seed(2)\n",
    "X0 = np.random.multivariate_normal(means[0], cov, N)\n",
    "X1 = np.random.multivariate_normal(means[1], cov, N)\n",
    "X = np.concatenate((X0,X1), axis=0)\n",
    "original_labels = np.asarray([0]*N + [1]*N)\n",
    "K = 2\n",
    "# show\n",
    "#display_data(X, original_labels)\n",
    "\n",
    "# algorithm\n",
    "centers, labels, it = kmeans(X, K, original_labels)\n",
    "print(centers[-1])\n"
   ]
  },
  {
   "cell_type": "code",
   "execution_count": null,
   "id": "91a0ce94",
   "metadata": {},
   "outputs": [],
   "source": []
  }
 ],
 "metadata": {
  "kernelspec": {
   "display_name": "Python 3 (ipykernel)",
   "language": "python",
   "name": "python3"
  },
  "language_info": {
   "codemirror_mode": {
    "name": "ipython",
    "version": 3
   },
   "file_extension": ".py",
   "mimetype": "text/x-python",
   "name": "python",
   "nbconvert_exporter": "python",
   "pygments_lexer": "ipython3",
   "version": "3.10.9"
  }
 },
 "nbformat": 4,
 "nbformat_minor": 5
}
