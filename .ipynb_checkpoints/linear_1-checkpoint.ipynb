{
 "cells": [
  {
   "cell_type": "code",
   "execution_count": 98,
   "id": "bc61432e",
   "metadata": {
    "scrolled": true
   },
   "outputs": [
    {
     "name": "stdout",
     "output_type": "stream",
     "text": [
      "[[104.70965941]\n",
      " [ 58.32490233]]\n",
      "[2.22216272e-17]\n"
     ]
    }
   ],
   "source": [
    "import pandas as pd\n",
    "import numpy as np\n",
    "import matplotlib.pyplot as plt\n",
    "\n",
    "df = pd.read_csv('datasets/linear_data.csv')\n",
    "df_r = df.drop(labels=[298,299], axis=0)\n",
    "X = df_r['X'].to_numpy().reshape(-1,1)\n",
    "y = df_r['Y'].to_numpy().reshape(-1,1)\n",
    "from sklearn.model_selection import train_test_split\n",
    "x_train, x_test, y_train, y_test = train_test_split(X, y, test_size=0.33)\n",
    "from sklearn.preprocessing import StandardScaler\n",
    "sc_x = StandardScaler()\n",
    "x_train = sc_x.fit_transform(x_train)\n",
    "x_test = sc_x.transform(x_test)\n",
    "\n",
    "ones = np.ones((x_train.shape[0], 1))\n",
    "x_train_bar = np.concatenate((ones, x_train), axis=1)\n",
    "A = x_train_bar.T.dot(x_train_bar)\n",
    "b = x_train_bar.T.dot(y_train)\n",
    "w = np.linalg.pinv(A).dot(b)\n",
    "print(w)\n",
    "\n",
    "w0 = w[0][0]\n",
    "w1 = w[1][0]\n",
    "xx = np.linspace(-2, 2, 2)\n",
    "yy = w0 + w1*xx\n",
    "\n",
    "def predict(x):\n",
    "    return x*w1 + w0\n",
    "\n",
    "mse = 0\n",
    "for j in range(x_test.shape[1]):\n",
    "    y_predict = predict(x_test[j])\n",
    "    mse += (y_predict - y_test[j])**2\n",
    "\n",
    "print(mse)\n",
    "\n",
    "#plt.plot(x_train, y_train, 'b^', alpha=0.1)\n",
    "#plt.plot(xx, yy, 'g')\n",
    "#plt.show()"
   ]
  },
  {
   "cell_type": "code",
   "execution_count": 126,
   "id": "f7d4ac93",
   "metadata": {},
   "outputs": [
    {
     "name": "stdout",
     "output_type": "stream",
     "text": [
      "r2: -2.60399224472233\n",
      "10964.11277471483\n"
     ]
    }
   ],
   "source": [
    "from sklearn import linear_model\n",
    "mdl = linear_model.LinearRegression(fit_intercept=False)\n",
    "mdl.fit(x_train, y_train)\n",
    "w = mdl.coef_\n",
    "#print(x_test)\n",
    "y_pred = mdl.predict(x_test)\n",
    "from sklearn.metrics import r2_score\n",
    "r2 = r2_score(y_pred, y_test)\n",
    "print('r2:', r2)\n",
    "from sklearn.metrics import mean_squared_error\n",
    "mse = mean_squared_error(y_pred, y_test)\n",
    "print(mse)"
   ]
  }
 ],
 "metadata": {
  "kernelspec": {
   "display_name": "Python 3 (ipykernel)",
   "language": "python",
   "name": "python3"
  },
  "language_info": {
   "codemirror_mode": {
    "name": "ipython",
    "version": 3
   },
   "file_extension": ".py",
   "mimetype": "text/x-python",
   "name": "python",
   "nbconvert_exporter": "python",
   "pygments_lexer": "ipython3",
   "version": "3.10.9"
  }
 },
 "nbformat": 4,
 "nbformat_minor": 5
}
