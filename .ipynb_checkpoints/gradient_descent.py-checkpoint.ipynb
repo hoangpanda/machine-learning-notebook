{
 "cells": [
  {
   "cell_type": "code",
   "execution_count": 78,
   "id": "0818ebd8",
   "metadata": {},
   "outputs": [
    {
     "name": "stdout",
     "output_type": "stream",
     "text": [
      "-1.1106667365268623\n",
      "11\n"
     ]
    }
   ],
   "source": [
    "import numpy as np \n",
    "import matplotlib.pyplot as plt\n",
    "import math\n",
    "\n",
    "# f(x) = x**2 + 5sin(x)\n",
    "\n",
    "\n",
    "def grad(x):\n",
    "    return 2*x + 5*np.cos(x)\n",
    "\n",
    "def cost(x):\n",
    "    return x**2 + 5*np.sin(x)\n",
    "\n",
    "def myGD1(x0, eta):\n",
    "    x = [x0]\n",
    "    \n",
    "    for it in range(100):\n",
    "        x_new = x[-1] - eta*grad(x[-1])\n",
    "        if abs(grad(x_new)) < 1e-3:\n",
    "            break\n",
    "        x.append(x_new)\n",
    "    return (x[-1], it)\n",
    "\n",
    "x0, it = myGD1(-5,.1)\n",
    "print(x0)\n",
    "print(it)"
   ]
  },
  {
   "cell_type": "code",
   "execution_count": 75,
   "id": "50fcc8c4",
   "metadata": {},
   "outputs": [
    {
     "name": "stdout",
     "output_type": "stream",
     "text": [
      "-1.1106667365268623\n"
     ]
    }
   ],
   "source": [
    "print(x0)"
   ]
  },
  {
   "cell_type": "code",
   "execution_count": 76,
   "id": "4692f15f",
   "metadata": {},
   "outputs": [
    {
     "data": {
      "image/png": "[encoded data removed]",
      "text/plain": [
       "<Figure size 640x480 with 1 Axes>"
      ]
     },
     "metadata": {},
     "output_type": "display_data"
    }
   ],
   "source": [
    "x_axis = [i for i in range(-100,100)]\n",
    "y_axis = [cost(i) for i in x_axis]\n",
    "plt.plot(x_axis, y_axis, 'g')\n",
    "plt.axis([-25,25,-10,30])\n",
    "plt.show()"
   ]
  },
  {
   "cell_type": "code",
   "execution_count": 80,
   "id": "6f9183e3",
   "metadata": {},
   "outputs": [],
   "source": [
    "def has_converge(new_theta):\n",
    "    #return np.linalg.norm(grad(new_theta))/len(new_theta) < 1e-3\n",
    "    return abs(grad(new_theta)) < 1e-3"
   ]
  },
  {
   "cell_type": "code",
   "execution_count": 87,
   "id": "4278808f",
   "metadata": {},
   "outputs": [],
   "source": [
    "def GD_momentum(theta_init, eta, gamma):\n",
    "    theta = [theta_init]\n",
    "    #print(theta)\n",
    "    v_old = 0\n",
    "    #print(v_old)\n",
    "    for it in range(100):\n",
    "        v_new = gamma*v_old + eta*grad(theta[-1])\n",
    "        theta_new = theta[-1] - v_new\n",
    "        if has_converge(theta_new):\n",
    "            break\n",
    "        theta.append(theta_new)\n",
    "        #print(theta)\n",
    "        v_old = v_new\n",
    "    \n",
    "    return theta"
   ]
  },
  {
   "cell_type": "code",
   "execution_count": 99,
   "id": "033ac869",
   "metadata": {},
   "outputs": [],
   "source": [
    "x1 = GD_momentum(5, .1, .9)"
   ]
  },
  {
   "cell_type": "code",
   "execution_count": 100,
   "id": "4236483d",
   "metadata": {},
   "outputs": [
    {
     "name": "stdout",
     "output_type": "stream",
     "text": [
      "-1.109727931431615\n",
      "0.0009388050952472415\n"
     ]
    }
   ],
   "source": [
    "print(x1[-1])\n",
    "print(abs(x1[-1] - -1.1106667365268623))"
   ]
  },
  {
   "cell_type": "code",
   "execution_count": 188,
   "id": "42103600",
   "metadata": {},
   "outputs": [],
   "source": [
    "def grad_version_nvector(x):\n",
    "    return [2*i + 5*np.cos(i) for i in x]"
   ]
  },
  {
   "cell_type": "code",
   "execution_count": 189,
   "id": "e5fb9f27",
   "metadata": {},
   "outputs": [],
   "source": [
    "def has_converge_version_nvector(new_theta):\n",
    "    return np.linalg.norm(grad(new_theta))/len(new_theta) < 1e-3\n",
    "    #return abs(grad(new_theta)) < 1e-3"
   ]
  },
  {
   "cell_type": "code",
   "execution_count": 190,
   "id": "d20cc3a7",
   "metadata": {},
   "outputs": [],
   "source": [
    "def GD_momentum_version_nvector(theta_init, eta, gamma):\n",
    "    # theta_init is a vector\n",
    "    theta = [theta_init]\n",
    "    print('theta', theta)\n",
    "    v_old = np.zeros_like(theta_init)\n",
    "    print('v_old', v_old)\n",
    "    print('start')\n",
    "    for it in range(100):\n",
    "        v_new = gamma*v_old + eta*np.array(grad_version_nvector(theta[-1]))\n",
    "        print('this is gamma cc', eta*np.array(grad_version_nvector(theta[-1])))\n",
    "        theta_new = theta[-1] - v_new\n",
    "        if has_converge_version_nvector(theta_new):\n",
    "            break\n",
    "        theta.append(theta_new)\n",
    "        #print(theta)\n",
    "        v_old = v_new\n",
    "    \n",
    "    return theta"
   ]
  },
  {
   "cell_type": "code",
   "execution_count": 184,
   "id": "830d6528",
   "metadata": {},
   "outputs": [
    {
     "name": "stdout",
     "output_type": "stream",
     "text": [
      "theta [[5]]\n",
      "v_old [0]\n",
      "start\n",
      "this is gamma cc [0.64183109 0.64183109] [6.41831093 6.41831093]\n",
      "this is gamma cc [0.6982043 0.6982043] [6.982043 6.982043]\n",
      "this is gamma cc [0.11734148 0.11734148] [1.1734148 1.1734148]\n",
      "this is gamma cc [0.24162124 0.24162124] [2.41621238 2.41621238]\n",
      "this is gamma cc [0.54042365 0.54042365] [5.40423652 5.40423652]\n",
      "this is gamma cc [-0.15842429 -0.15842429] [-1.5842429 -1.5842429]\n",
      "this is gamma cc [-1.02863296 -1.02863296] [-10.28632957 -10.28632957]\n",
      "this is gamma cc [-1.11184849 -1.11184849] [-11.11848487 -11.11848487]\n",
      "this is gamma cc [-0.73437455 -0.73437455] [-7.34374549 -7.34374549]\n",
      "this is gamma cc [0.24952444 0.24952444] [2.49524435 2.49524435]\n",
      "this is gamma cc [0.54050865 0.54050865] [5.40508647 5.40508647]\n",
      "this is gamma cc [0.49311967 0.49311967] [4.93119669 4.93119669]\n",
      "this is gamma cc [0.50679339 0.50679339] [5.06793388 5.06793388]\n",
      "this is gamma cc [0.53306087 0.53306087] [5.33060869 5.33060869]\n",
      "this is gamma cc [0.17725308 0.17725308] [1.77253077 1.77253077]\n",
      "this is gamma cc [-0.57121658 -0.57121658] [-5.71216582 -5.71216582]\n",
      "this is gamma cc [-0.84055827 -0.84055827] [-8.40558268 -8.40558268]\n",
      "this is gamma cc [-0.56915249 -0.56915249] [-5.69152491 -5.69152491]\n",
      "this is gamma cc [0.08715361 0.08715361] [0.87153611 0.87153611]\n",
      "this is gamma cc [0.45364127 0.45364127] [4.53641271 4.53641271]\n",
      "this is gamma cc [0.51189186 0.51189186] [5.11891861 5.11891861]\n",
      "this is gamma cc [0.44396677 0.44396677] [4.43966775 4.43966775]\n",
      "this is gamma cc [0.11886513 0.11886513] [1.18865131 1.18865131]\n",
      "this is gamma cc [-0.38286518 -0.38286518] [-3.82865185 -3.82865185]\n",
      "this is gamma cc [-0.58191285 -0.58191285] [-5.81912846 -5.81912846]\n",
      "this is gamma cc [-0.36290182 -0.36290182] [-3.6290182 -3.6290182]\n",
      "this is gamma cc [0.07650873 0.07650873] [0.76508729 0.76508729]\n",
      "this is gamma cc [0.34724609 0.34724609] [3.47246091 3.47246091]\n",
      "this is gamma cc [0.39231873 0.39231873] [3.92318728 3.92318728]\n",
      "this is gamma cc [0.26197205 0.26197205] [2.61972051 2.61972051]\n",
      "this is gamma cc [-0.05029558 -0.05029558] [-0.50295575 -0.50295575]\n",
      "this is gamma cc [-0.34126241 -0.34126241] [-3.41262414 -3.41262414]\n",
      "this is gamma cc [-0.36842226 -0.36842226] [-3.68422265 -3.68422265]\n",
      "this is gamma cc [-0.13643173 -0.13643173] [-1.36431727 -1.36431727]\n",
      "this is gamma cc [0.14353091 0.14353091] [1.43530915 1.43530915]\n",
      "this is gamma cc [0.27850414 0.27850414] [2.78504136 2.78504136]\n",
      "this is gamma cc [0.25119556 0.25119556] [2.51195558 2.51195558]\n",
      "this is gamma cc [0.08069058 0.08069058] [0.80690576 0.80690576]\n",
      "this is gamma cc [-0.14918238 -0.14918238] [-1.49182381 -1.49182381]\n",
      "this is gamma cc [-0.26453491 -0.26453491] [-2.64534909 -2.64534909]\n",
      "this is gamma cc [-0.18465355 -0.18465355] [-1.84653545 -1.84653545]\n",
      "this is gamma cc [0.00872055 0.00872055] [0.08720551 0.08720551]\n",
      "this is gamma cc [0.16198355 0.16198355] [1.61983551 1.61983551]\n",
      "this is gamma cc [0.19775405 0.19775405] [1.97754054 1.97754054]\n",
      "this is gamma cc [0.11667796 0.11667796] [1.16677955 1.16677955]\n",
      "this is gamma cc [-0.0369376 -0.0369376] [-0.36937602 -0.36937602]\n",
      "this is gamma cc [-0.15979984 -0.15979984] [-1.59799835 -1.59799835]\n",
      "this is gamma cc [-0.16254963 -0.16254963] [-1.62549631 -1.62549631]\n",
      "this is gamma cc [-0.05484924 -0.05484924] [-0.54849239 -0.54849239]\n",
      "this is gamma cc [0.07255437 0.07255437] [0.72554372 0.72554372]\n",
      "this is gamma cc [0.13637414 0.13637414] [1.36374141 1.36374141]\n",
      "this is gamma cc [0.11175523 0.11175523] [1.11755226 1.11755226]\n",
      "this is gamma cc [0.01907438 0.01907438] [0.19074384 0.19074384]\n",
      "this is gamma cc [-0.08162316 -0.08162316] [-0.81623157 -0.81623157]\n",
      "this is gamma cc [-0.11964804 -0.11964804] [-1.19648037 -1.19648037]\n",
      "this is gamma cc [-0.07302054 -0.07302054] [-0.73020539 -0.73020539]\n",
      "this is gamma cc [0.01575196 0.01575196] [0.1575196 0.1575196]\n",
      "this is gamma cc [0.08238688 0.08238688] [0.82386878 0.82386878]\n",
      "this is gamma cc [0.09031213 0.09031213] [0.90312128 0.90312128]\n",
      "this is gamma cc [0.04133753 0.04133753] [0.41337526 0.41337526]\n",
      "this is gamma cc [-0.03109571 -0.03109571] [-0.31095712 -0.31095712]\n",
      "this is gamma cc [-0.07751748 -0.07751748] [-0.77517483 -0.77517483]\n",
      "this is gamma cc [-0.06770147 -0.06770147] [-0.67701467 -0.67701467]\n",
      "this is gamma cc [-0.01424624 -0.01424624] [-0.14246244 -0.14246244]\n",
      "this is gamma cc [0.04172017 0.04172017] [0.41720168 0.41720168]\n",
      "this is gamma cc [0.06471607 0.06471607] [0.64716066 0.64716066]\n",
      "this is gamma cc [0.04479929 0.04479929] [0.4479929 0.4479929]\n",
      "this is gamma cc [-0.00217773 -0.00217773] [-0.02177729 -0.02177729]\n",
      "this is gamma cc [-0.04403537 -0.04403537] [-0.44035365 -0.44035365]\n",
      "this is gamma cc [-0.05294806 -0.05294806] [-0.52948064 -0.52948064]\n",
      "this is gamma cc [-0.0259658 -0.0259658] [-0.25965799 -0.25965799]\n",
      "this is gamma cc [0.01479458 0.01479458] [0.14794578 0.14794578]\n",
      "this is gamma cc [0.04136782 0.04136782] [0.41367815 0.41367815]\n",
      "this is gamma cc [0.03891771 0.03891771] [0.38917709 0.38917709]\n",
      "this is gamma cc [0.01183218 0.01183218] [0.11832178 0.11832178]\n",
      "this is gamma cc [-0.02063237 -0.02063237] [-0.2063237 -0.2063237]\n",
      "this is gamma cc [-0.03664372 -0.03664372] [-0.36643715 -0.36643715]\n",
      "this is gamma cc [-0.02695518 -0.02695518] [-0.26955182 -0.26955182]\n",
      "this is gamma cc [-0.00072149 -0.00072149] [-0.00721487 -0.00721487]\n",
      "this is gamma cc [0.0230451 0.0230451] [0.23045096 0.23045096]\n",
      "this is gamma cc [0.02953752 0.02953752] [0.29537518 0.29537518]\n",
      "this is gamma cc [0.01649588 0.01649588] [0.16495881 0.16495881]\n",
      "this is gamma cc [-0.00601704 -0.00601704] [-0.06017042 -0.06017042]\n",
      "this is gamma cc [-0.02255825 -0.02255825] [-0.22558247 -0.22558247]\n",
      "this is gamma cc [-0.02272188 -0.02272188] [-0.22721877 -0.22721877]\n",
      "this is gamma cc [-0.00802958 -0.00802958] [-0.08029582 -0.08029582]\n",
      "this is gamma cc [0.01028132 0.01028132] [0.10281318 0.10281318]\n",
      "this is gamma cc [0.02002855 0.02002855] [0.20028549 0.20028549]\n",
      "this is gamma cc [0.01593689 0.01593689] [0.15936892 0.15936892]\n",
      "this is gamma cc [0.0019592 0.0019592] [0.01959199 0.01959199]\n",
      "this is gamma cc [-0.01198758 -0.01198758] [-0.11987576 -0.11987576]\n",
      "this is gamma cc [-0.01677471 -0.01677471] [-0.16774713 -0.16774713]\n",
      "this is gamma cc [-0.01013631 -0.01013631] [-0.10136313 -0.10136313]\n",
      "this is gamma cc [0.00239025 0.00239025] [0.02390253 0.02390253]\n",
      "this is gamma cc [0.012055 0.012055] [0.12055004 0.12055004]\n",
      "this is gamma cc [0.01296974 0.01296974] [0.1296974 0.1296974]\n",
      "this is gamma cc [0.00543224 0.00543224] [0.05432241 0.05432241]\n",
      "this is gamma cc [-0.00490362 -0.00490362] [-0.04903619 -0.04903619]\n",
      "this is gamma cc [-0.0110554 -0.0110554] [-0.11055398 -0.11055398]\n",
      "this is gamma cc [-0.00939684 -0.00939684] [-0.09396837 -0.09396837]\n"
     ]
    }
   ],
   "source": [
    "x2 = GD_momentum_version_nvector([5], .1, 0.9)"
   ]
  },
  {
   "cell_type": "code",
   "execution_count": 172,
   "id": "8e5a8a4e",
   "metadata": {},
   "outputs": [
    {
     "name": "stdout",
     "output_type": "stream",
     "text": [
      "[7.74039536 7.74039536]\n"
     ]
    }
   ],
   "source": [
    "print(x2[-1])"
   ]
  },
  {
   "cell_type": "code",
   "execution_count": null,
   "id": "b5413a3d",
   "metadata": {},
   "outputs": [],
   "source": []
  }
 ],
 "metadata": {
  "kernelspec": {
   "display_name": "Python 3 (ipykernel)",
   "language": "python",
   "name": "python3"
  },
  "language_info": {
   "codemirror_mode": {
    "name": "ipython",
    "version": 3
   },
   "file_extension": ".py",
   "mimetype": "text/x-python",
   "name": "python",
   "nbconvert_exporter": "python",
   "pygments_lexer": "ipython3",
   "version": "3.10.9"
  }
 },
 "nbformat": 4,
 "nbformat_minor": 5
}
